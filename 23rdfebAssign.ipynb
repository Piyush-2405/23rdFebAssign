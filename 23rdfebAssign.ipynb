{
 "cells": [
  {
   "cell_type": "markdown",
   "id": "ad92b58d-11b8-4019-bc6a-5d45740860c9",
   "metadata": {},
   "source": [
    "Q1. Create a Pandas Series that contains the following data: 4, 8, 15, 16, 23, and 42. Then, print the series."
   ]
  },
  {
   "cell_type": "code",
   "execution_count": 1,
   "id": "da56b77d-6e04-4205-ada4-aba81bbe68ef",
   "metadata": {},
   "outputs": [
    {
     "ename": "ModuleNotFoundError",
     "evalue": "No module named 'pandas'",
     "output_type": "error",
     "traceback": [
      "\u001b[1;31m---------------------------------------------------------------------------\u001b[0m",
      "\u001b[1;31mModuleNotFoundError\u001b[0m                       Traceback (most recent call last)",
      "Cell \u001b[1;32mIn[1], line 1\u001b[0m\n\u001b[1;32m----> 1\u001b[0m \u001b[39mimport\u001b[39;00m \u001b[39mpandas\u001b[39;00m \u001b[39mas\u001b[39;00m \u001b[39mpd\u001b[39;00m\n\u001b[0;32m      3\u001b[0m \u001b[39m# a simple list\u001b[39;00m\n\u001b[0;32m      4\u001b[0m \u001b[39m# list = ['4', '8', '15', '16', '23','42']\u001b[39;00m\n\u001b[0;32m      5\u001b[0m \u001b[39mlist\u001b[39m \u001b[39m=\u001b[39m [\u001b[39m4\u001b[39m, \u001b[39m8\u001b[39m, \u001b[39m15\u001b[39m, \u001b[39m16\u001b[39m, \u001b[39m23\u001b[39m,\u001b[39m42\u001b[39m]\n",
      "\u001b[1;31mModuleNotFoundError\u001b[0m: No module named 'pandas'"
     ]
    }
   ],
   "source": [
    "import pandas as pd\n",
    "\n",
    "# a simple list\n",
    "# list = ['4', '8', '15', '16', '23','42']\n",
    "list = [4, 8, 15, 16, 23,42]\n",
    "# create series from a list\n",
    "ser = pd.Series(list)\n",
    "print(ser)\n"
   ]
  },
  {
   "cell_type": "markdown",
   "id": "aaaa2af0-3405-476f-a778-5ffb8beb441f",
   "metadata": {},
   "source": [
    "Q2. Create a variable of list type containing 10 elements in it, and apply pandas.Series function on the\n",
    "variable print it."
   ]
  },
  {
   "cell_type": "code",
   "execution_count": 3,
   "id": "9b985f65-7cc6-447b-933d-2482b476fc63",
   "metadata": {},
   "outputs": [
    {
     "name": "stdout",
     "output_type": "stream",
     "text": [
      "0    5\n",
      "1    3\n",
      "2    7\n",
      "3    4\n",
      "4    8\n",
      "5    9\n",
      "6    6\n",
      "7    7\n",
      "8    4\n",
      "9    3\n",
      "dtype: int64\n"
     ]
    }
   ],
   "source": [
    "list1=[5,3,7,4,8,9,6,7,4,3]\n",
    "ser1 = pd.Series(list1)\n",
    "print(ser1)"
   ]
  },
  {
   "cell_type": "markdown",
   "id": "69cd8da8-42ea-4c57-81a4-deb1adb958a0",
   "metadata": {},
   "source": [
    "Q3. Create a Pandas DataFrame that contains the following data:\n",
    "\n",
    "\n",
    "\n",
    "Name            Age          Gender \n",
    "Alice           25           Female\n",
    "Bob             30           Male\n",
    "Claire          27           Female\n",
    "\n",
    "\n",
    "\n",
    "Then, print the DataFrame."
   ]
  },
  {
   "cell_type": "code",
   "execution_count": 4,
   "id": "c35332f3-56e8-4130-b15f-a3f1ecac7bdb",
   "metadata": {},
   "outputs": [],
   "source": [
    "table_data = {'Name' : [\"Alice\",\"Bob\",\"Claire\"],\"Age\" : [25,30,27],\"Gender\":[\"Female\",\"Male\",\"Female\"]}"
   ]
  },
  {
   "cell_type": "code",
   "execution_count": 6,
   "id": "4facb2bf-7f91-45fc-aa3d-83e5b9e71eaa",
   "metadata": {},
   "outputs": [],
   "source": [
    "labels = [\"a\",\"b\",\"c\"]"
   ]
  },
  {
   "cell_type": "code",
   "execution_count": 7,
   "id": "97147133-46e4-44d5-aa0a-f1cae3863f9c",
   "metadata": {},
   "outputs": [],
   "source": [
    "df = pd.DataFrame(table_data, index = labels)"
   ]
  },
  {
   "cell_type": "code",
   "execution_count": 8,
   "id": "7c87ef59-4aba-4d3b-be7f-8f3816115a09",
   "metadata": {},
   "outputs": [
    {
     "name": "stdout",
     "output_type": "stream",
     "text": [
      "     Name  Age  Gender\n",
      "a   Alice   25  Female\n",
      "b     Bob   30    Male\n",
      "c  Claire   27  Female\n"
     ]
    }
   ],
   "source": [
    "print(df)"
   ]
  },
  {
   "cell_type": "markdown",
   "id": "82b53769-b51d-4219-bbf2-54b54244acef",
   "metadata": {},
   "source": [
    "Q4. What is ‘DataFrame’ in pandas and how is it different from pandas.series? Explain with an example."
   ]
  },
  {
   "cell_type": "markdown",
   "id": "c4a08da5-fa50-4ef3-99e5-bdb58f3fef4e",
   "metadata": {},
   "source": [
    "Pandas DataFrame is two-dimensional size-mutable, potentially heterogeneous tabular data structure with labeled axes (rows and columns). A Data frame is a two-dimensional data structure, i.e., data is aligned in a tabular fashion in rows and columns. Pandas DataFrame consists of three principal components, the data, rows, and columns."
   ]
  },
  {
   "cell_type": "markdown",
   "id": "348ae503-2e42-4f9f-a9a0-4e40768cc9eb",
   "metadata": {},
   "source": [
    "Pandas Series                             \t                             Pandas DataFrame\n",
    "1.One-dimensional\t                                                     1.Two-dimensional\n",
    "2.Homogenous – Series elements mustbe of the same data type.\t         2.Heterogenous – DataFrame elements                                                                          can have different data types.\n",
    "3.Size-immutable – Once created, the size of a Series object             3.Size-mutable – Elements can be                                                                              dropped or added in an\n",
    "cannot be changed.                                                       existing DataFrame.\n",
    "\t                                                    "
   ]
  },
  {
   "cell_type": "markdown",
   "id": "4ea16214-197f-4f3d-a968-360536b2a50a",
   "metadata": {},
   "source": [
    "Examples are listed in the above questions. "
   ]
  },
  {
   "cell_type": "markdown",
   "id": "158c81c6-f4d6-4ea3-88e7-4a9cec1c1179",
   "metadata": {},
   "source": [
    "Q5. What are some common functions you can use to manipulate data in a Pandas DataFrame? Can\n",
    "you give an example of when you might use one of these functions?"
   ]
  },
  {
   "cell_type": "markdown",
   "id": "c6134773-148f-40f4-83ca-d264f4f19210",
   "metadata": {},
   "source": [
    "Pandas is a popular Python library for data manipulation and analysis. It provides a DataFrame data structure which is similar to a table in a relational database. Here are some common functions that you can use to manipulate data in a Pandas DataFrame:\n",
    "\n",
    "1. \n",
    "head() - Returns the first n rows of the DataFrame. This function is useful to quickly inspect the data and get an idea of what it looks like. For example, you can use df.head(10) to get the first 10 rows of the DataFrame.\n",
    "\n",
    "2. \n",
    "tail() - Returns the last n rows of the DataFrame. This function is useful to check the last few rows of the DataFrame. For example, you can use df.tail(5) to get the last 5 rows of the DataFrame.\n",
    "\n",
    "3. \n",
    "describe() - Generates descriptive statistics for the DataFrame. This function gives you an idea of the distribution of your data and can be used to detect outliers or anomalies. For example, you can use df.describe() to get the mean, standard deviation, minimum, maximum, and quartile values for each column in the DataFrame.\n",
    "\n",
    "4. \n",
    "groupby() - Groups the DataFrame by a specified column and returns a DataFrameGroupBy object. This function is useful when you want to analyze data based on a specific category or grouping. For example, you can use df.groupby('category').mean() to group the DataFrame by the 'category' column and calculate the mean of each group.\n",
    "\n",
    "5. \n",
    "fillna() - Fills missing values in the DataFrame with a specified value or method. This function is useful when you have missing data and you want to fill in the gaps. For example, you can use df.fillna(0) to replace all missing values with 0.\n",
    "\n",
    "6. \n",
    "sort_values() - Sorts the DataFrame by one or more columns. This function is useful when you want to sort your data in a specific order. For example, you can use df.sort_values('date') to sort the DataFrame by the 'date' column in ascending order.\n",
    "\n",
    "7. \n",
    "drop() - Drops specified labels from rows or columns. This function is useful when you want to remove unwanted columns or rows from the DataFrame. For example, you can use df.drop(['column1', 'column2'], axis=1) to drop the 'column1' and 'column2' columns from the DataFrame.\n",
    "\n",
    "One example of when you might use one of these functions is when you have a DataFrame with missing values and you want to fill them in. You can use the fillna() function to replace the missing values with a specified value or method, such as the mean or median of the column. For example:"
   ]
  },
  {
   "cell_type": "code",
   "execution_count": 1,
   "id": "4e7eeedd-44bc-44ad-b1b6-7bd9edec4eeb",
   "metadata": {},
   "outputs": [],
   "source": [
    "import pandas as pd\n",
    "import numpy as np\n",
    "\n",
    "df = pd.DataFrame({'A': [1, 2, np.nan, 4],\n",
    "                   'B': [5, np.nan, 7, 8],\n",
    "                   'C': [9, 10, 11, 12]})\n",
    "\n",
    "# Fill missing values with the mean of the column\n",
    "df.fillna(df.mean(), inplace=True)\n"
   ]
  },
  {
   "cell_type": "markdown",
   "id": "45bb4f03-6a57-4587-a4c4-571b1aa509e3",
   "metadata": {},
   "source": [
    "This code replaces the missing values in the DataFrame with the mean of the column."
   ]
  },
  {
   "cell_type": "markdown",
   "id": "e93cb057-e98c-4c41-aab4-cd26a760d778",
   "metadata": {},
   "source": [
    "Q6. Which of the following is mutable in nature Series, DataFrame, Panel?"
   ]
  },
  {
   "cell_type": "markdown",
   "id": "101afe81-11e4-493e-8156-10804d9de2dc",
   "metadata": {},
   "source": [
    "All Pandas data structures are value mutable (can be changed) and except Series all are size mutable."
   ]
  },
  {
   "cell_type": "markdown",
   "id": "cb569cae-8c62-41cf-884b-0ef557873abe",
   "metadata": {},
   "source": [
    "Q7. Create a DataFrame using multiple Series. Explain with an example."
   ]
  },
  {
   "cell_type": "code",
   "execution_count": 2,
   "id": "f91df2f5-27d7-49dd-a5c5-8144a0e54829",
   "metadata": {},
   "outputs": [
    {
     "name": "stdout",
     "output_type": "stream",
     "text": [
      "         0      1     2\n",
      "0    Spark  22000  1000\n",
      "1  PySpark  25000  2300\n",
      "2   Hadoop  23000  1000\n"
     ]
    }
   ],
   "source": [
    "\n",
    "import pandas as pd\n",
    "# Create pandas Series\n",
    "courses = pd.Series([\"Spark\",\"PySpark\",\"Hadoop\"])\n",
    "fees = pd.Series([22000,25000,23000])\n",
    "discount  = pd.Series([1000,2300,1000])\n",
    "\n",
    "# Combine two series.\n",
    "df=pd.concat([courses,fees],axis=1)\n",
    "\n",
    "# It also supports to combine multiple series.\n",
    "df=pd.concat([courses,fees,discount],axis=1)\n",
    "print(df)"
   ]
  }
 ],
 "metadata": {
  "kernelspec": {
   "display_name": "Python 3 (ipykernel)",
   "language": "python",
   "name": "python3"
  },
  "language_info": {
   "codemirror_mode": {
    "name": "ipython",
    "version": 3
   },
   "file_extension": ".py",
   "mimetype": "text/x-python",
   "name": "python",
   "nbconvert_exporter": "python",
   "pygments_lexer": "ipython3",
   "version": "3.10.11"
  }
 },
 "nbformat": 4,
 "nbformat_minor": 5
}
